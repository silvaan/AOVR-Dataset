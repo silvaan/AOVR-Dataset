{
 "cells": [
  {
   "cell_type": "code",
   "execution_count": 6,
   "metadata": {},
   "outputs": [],
   "source": [
    "import os\n",
    "import json\n",
    "from langchain_openai import ChatOpenAI\n",
    "from langchain_core.prompts import ChatPromptTemplate\n",
    "from langchain.output_parsers import CommaSeparatedListOutputParser\n",
    "from tqdm import tqdm"
   ]
  },
  {
   "cell_type": "code",
   "execution_count": 7,
   "metadata": {},
   "outputs": [],
   "source": [
    "system_prompt = \"\"\"### Instruction ###\n",
    "You are an expert in generating synthetic data. Your task is to generate N unique sentences, all in lowercase, describing an object based on the provided property in the format \"property: value\". Avoid repeating sentences and do not include any additional information.\n",
    "\n",
    "### Output Format ###\n",
    "Your response should be a list of comma-separated values, e.g., `sentence1, sentence2`.\n",
    "\n",
    "### Example ###\n",
    "\n",
    "# Input #\n",
    "property: color\n",
    "value: red\n",
    "N: 3\n",
    "\n",
    "# Output #\n",
    "a red object, an item that is colored red, something that has a red hue\n",
    "\n",
    "Begin!\"\"\"\n",
    "\n",
    "prompt = ChatPromptTemplate.from_messages(\n",
    "    [\n",
    "        (\"system\", system_prompt),\n",
    "        (\"human\", \"{attribute}: {value}, N: {num}\"),\n",
    "    ]\n",
    ")\n",
    "\n",
    "llm = ChatOpenAI(model=\"gpt-4o-mini\")\n",
    "\n",
    "chain = prompt | llm | CommaSeparatedListOutputParser()"
   ]
  },
  {
   "cell_type": "code",
   "execution_count": 8,
   "metadata": {},
   "outputs": [],
   "source": [
    "def generate_sentences(attribute, value, num):\n",
    "    result = chain.invoke({\"attribute\": attribute, \"value\": value, \"num\": num})\n",
    "    if len(result) < num:\n",
    "        result += chain.invoke({\"attribute\": attribute, \"value\": value, \"num\": num - len(result)})\n",
    "    if len(result) > num:\n",
    "        result = result[:num]\n",
    "    return result"
   ]
  },
  {
   "cell_type": "code",
   "execution_count": 9,
   "metadata": {},
   "outputs": [
    {
     "data": {
      "text/plain": [
       "{'shape': ['cylinder', 'cube', 'torus', 'cone', 'sphere'],\n",
       " 'color': ['blue',\n",
       "  'magenta',\n",
       "  'black',\n",
       "  'red',\n",
       "  'orange',\n",
       "  'purple',\n",
       "  'green',\n",
       "  'yellow',\n",
       "  'cyan'],\n",
       " 'material': ['metal', 'rubber'],\n",
       " 'container': ['floor',\n",
       "  'shelf_bottom',\n",
       "  'shelf_top',\n",
       "  'table_top',\n",
       "  'table_under',\n",
       "  'crate',\n",
       "  'box',\n",
       "  'shelf',\n",
       "  'table'],\n",
       " 'size': ['small', 'big']}"
      ]
     },
     "execution_count": 9,
     "metadata": {},
     "output_type": "execute_result"
    }
   ],
   "source": [
    "with open(\"../data/attributes.json\") as f:\n",
    "    attributes = json.load(f)\n",
    "\n",
    "attributes[\"container\"].extend([\"shelf\", \"table\"])\n",
    "attributes"
   ]
  },
  {
   "cell_type": "code",
   "execution_count": 10,
   "metadata": {},
   "outputs": [
    {
     "name": "stderr",
     "output_type": "stream",
     "text": [
      "100%|██████████| 5/5 [03:15<00:00, 39.05s/it]\n"
     ]
    }
   ],
   "source": [
    "# Generate sentences for each attribute\n",
    "sentences = {}\n",
    "for attribute, values in tqdm(attributes.items()):\n",
    "    sentences[attribute] = {}\n",
    "    for value in values:\n",
    "        sentences[attribute][value] = generate_sentences(attribute, value, 100)\n",
    "\n",
    "# Save sentences to file\n",
    "with open(\"../sentences.json\", \"w\") as f:\n",
    "    json.dump(sentences, f, indent=4)"
   ]
  },
  {
   "cell_type": "code",
   "execution_count": null,
   "metadata": {},
   "outputs": [],
   "source": [
    "# Count the number of unique sentences generated\n",
    "unique_sentences = set()\n",
    "for attribute, values in sentences.items():\n",
    "    for value, sents in values.items():\n",
    "        unique_sentences.update(sents)\n",
    "print(f\"Unique sentences: {len(unique_sentences)}\")"
   ]
  }
 ],
 "metadata": {
  "kernelspec": {
   "display_name": "base",
   "language": "python",
   "name": "python3"
  },
  "language_info": {
   "codemirror_mode": {
    "name": "ipython",
    "version": 3
   },
   "file_extension": ".py",
   "mimetype": "text/x-python",
   "name": "python",
   "nbconvert_exporter": "python",
   "pygments_lexer": "ipython3",
   "version": "3.10.9"
  }
 },
 "nbformat": 4,
 "nbformat_minor": 2
}
